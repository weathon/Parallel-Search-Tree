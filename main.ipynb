{
 "cells": [
  {
   "cell_type": "code",
   "execution_count": 8,
   "metadata": {},
   "outputs": [
    {
     "name": "stdout",
     "output_type": "stream",
     "text": [
      "Number of CPU cores: 16\n"
     ]
    }
   ],
   "source": [
    "import multiprocessing\n",
    "\n",
    "num_cores = multiprocessing.cpu_count()\n",
    "print(\"Number of CPU cores:\", num_cores)"
   ]
  },
  {
   "cell_type": "code",
   "execution_count": 9,
   "metadata": {},
   "outputs": [],
   "source": [
    "import numpy as np\n",
    "\n",
    "class normalTreeNode:\n",
    "    def __init__(self):\n",
    "        self.data = None\n",
    "        self.left = None\n",
    "        self.right = None\n",
    "        self.cloest = np.inf\n",
    "        self.farthest = 0\n",
    "        self.inner = np.nan\n",
    "        self.outter = np.nan\n",
    "\n",
    "class parallelTreeNode:\n",
    "    def __init__(self):\n",
    "        self.branches = []\n",
    "        self.anchors = []\n",
    "        self.cloest = np.inf #cloest and farthest are the ball with respect with the 0th anchor\n",
    "        self.farthest = 0\n",
    "\n",
    "\n",
    "# There are different partition method\n",
    "# - many branches, go to whichever is the cloest. When same dis, go to the lower index\n",
    "# - same as normal tree but just pack some more objects in the node \n"
   ]
  },
  {
   "cell_type": "code",
   "execution_count": 10,
   "metadata": {},
   "outputs": [],
   "source": [
    "dataset = [np.random.uniform(size=(2)) for i in range(10000)]\n",
    "def d(a, b):\n",
    "    return np.sqrt(np.sum((a-b)**2))"
   ]
  },
  {
   "cell_type": "code",
   "execution_count": 13,
   "metadata": {},
   "outputs": [
    {
     "data": {
      "text/plain": [
       "<__main__.normalTreeNode at 0x7ffa1067dbd0>"
      ]
     },
     "execution_count": 13,
     "metadata": {},
     "output_type": "execute_result"
    }
   ],
   "source": [
    "import random\n",
    "from functools import cmp_to_key\n",
    "# https://stackoverflow.com/questions/5213033/sort-a-list-of-lists-with-a-custom-compare-function\n",
    "\n",
    "def buildNormalTree(root, dataset):\n",
    "    if len(dataset) == 0:\n",
    "        return None\n",
    "    if len(dataset) == 1:\n",
    "        root.data=dataset[0]\n",
    "        root.inner = 0\n",
    "        root.farthest = 0\n",
    "        root.cloest = 0\n",
    "        root.outter = 0\n",
    "        return root\n",
    "    if len(dataset) == 2:\n",
    "        root.data=dataset[0]\n",
    "        dis = d(dataset[1], dataset[0])\n",
    "        root.inner = dis\n",
    "        root.farthest = dis\n",
    "        root.cloest = dis\n",
    "        root.outter = dis + 1 # never  reach\n",
    "        root.left = buildNormalTree(normalTreeNode(), [dataset[1]])\n",
    "        return root\n",
    "    random_index = random.randint(0, len(dataset)-1)\n",
    "    dataset[random_index], dataset[-1] = dataset[-1], dataset[random_index]\n",
    "    root.data = dataset[-1]\n",
    "    dataset = dataset[:-1]\n",
    "    distances = []\n",
    "    for index, datapoint in enumerate(dataset): #this can be parrelized, but it is not the point at this point\n",
    "        dis = d(root.data, datapoint)\n",
    "        root.cloest = min(root.cloest, dis)\n",
    "        root.farthest = max(root.farthest, dis)\n",
    "        distances.append(dis)\n",
    "    \n",
    "    distances_ = sorted(distances)\n",
    "    root.inner = distances_[len(distances_)//2-1]\n",
    "    root.outter = distances_[len(distances_)//2]\n",
    "    L = []\n",
    "    R = []\n",
    "    for i in range(len(dataset)):\n",
    "        if distances[i]<=root.inner:\n",
    "            L.append(dataset[i])\n",
    "        elif distances[i]>=root.outter:\n",
    "            R.append(dataset[i])\n",
    "        else:\n",
    "            print(\"OOBA\")\n",
    "    root.left = buildNormalTree(normalTreeNode(),L)\n",
    "    root.right = buildNormalTree(normalTreeNode(),R)\n",
    "    return root\n",
    "buildNormalTree(normalTreeNode(), dataset)\n"
   ]
  },
  {
   "cell_type": "code",
   "execution_count": null,
   "metadata": {},
   "outputs": [],
   "source": [
    "from numpy.random import default_rng\n",
    "\n",
    "def buildParallelTree(root, dataset):\n",
    "    if len(dataset) == 0:\n",
    "        return None\n",
    "    if len(dataset) == 1:\n",
    "        root.anchors=[dataset[0]]\n",
    "        root.farthest = 0\n",
    "        root.cloest = 0\n",
    "        return root\n",
    "    if len(dataset) == 2:\n",
    "        root.anchors=[dataset[0], dataset[1]]\n",
    "        root.inner = 0\n",
    "        root.farthest = 0\n",
    "        root.cloest = 0\n",
    "        root.outter = 0\n",
    "        return root\n",
    "\n",
    "    number_of_anchors = min(CORES, len(dataset))\n",
    "    np.random.choice(dataset, size=number_of_anchors, replace=False) #GPT"
   ]
  }
 ],
 "metadata": {
  "kernelspec": {
   "display_name": "Python 3",
   "language": "python",
   "name": "python3"
  },
  "language_info": {
   "codemirror_mode": {
    "name": "ipython",
    "version": 3
   },
   "file_extension": ".py",
   "mimetype": "text/x-python",
   "name": "python",
   "nbconvert_exporter": "python",
   "pygments_lexer": "ipython3",
   "version": "3.11.1"
  },
  "orig_nbformat": 4
 },
 "nbformat": 4,
 "nbformat_minor": 2
}
